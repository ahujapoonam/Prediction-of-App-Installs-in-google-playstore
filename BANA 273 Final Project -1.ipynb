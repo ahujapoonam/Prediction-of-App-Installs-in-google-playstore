{
 "cells": [
  {
   "cell_type": "code",
   "execution_count": 1,
   "metadata": {},
   "outputs": [],
   "source": [
    "import pandas as pd\n",
    "import numpy as np \n",
    "from collections import Counter\n",
    "from sklearn.cluster import KMeans \n",
    "from sklearn import metrics \n",
    "from scipy.spatial.distance import cdist \n",
    "import matplotlib.pyplot as plt  "
   ]
  },
  {
   "cell_type": "code",
   "execution_count": 2,
   "metadata": {},
   "outputs": [],
   "source": [
    "app=pd.read_csv('/Users/hehuiyin/Desktop/BANA 273 machine learning/project/app store/googleplaystore.csv')"
   ]
  },
  {
   "cell_type": "code",
   "execution_count": 3,
   "metadata": {},
   "outputs": [],
   "source": [
    "#need to reformat for this line\n",
    "app[app['Price']=='Everyone']=app[app['Price']=='Everyone'].shift(1,axis=1)"
   ]
  },
  {
   "cell_type": "code",
   "execution_count": 4,
   "metadata": {},
   "outputs": [],
   "source": [
    "#select the attributes\n",
    "app2= app.fillna(0)\n",
    "app2=app2.replace(to_replace = 'None', value =0)\n",
    "app2=app2[['Category','Size','Installs','Price','Genres','Content Rating']]"
   ]
  },
  {
   "cell_type": "code",
   "execution_count": 5,
   "metadata": {},
   "outputs": [],
   "source": [
    "##Price\n",
    "    #remove $ sign for 'Price'\n",
    "app2['Price']=app2['Price'].replace({'\\$':''}, regex = True)"
   ]
  },
  {
   "cell_type": "code",
   "execution_count": 6,
   "metadata": {},
   "outputs": [],
   "source": [
    "    #change type of 'Price'\n",
    "app2['Price']=app2['Price'].astype(float)"
   ]
  },
  {
   "cell_type": "code",
   "execution_count": 7,
   "metadata": {},
   "outputs": [],
   "source": [
    "#orginal data and use it in weka\n",
    "#app2.to_csv(r'/Users/hehuiyin/Desktop/BANA 273 machine learning/project/app store/app2.csv', index = False)"
   ]
  },
  {
   "cell_type": "code",
   "execution_count": 8,
   "metadata": {},
   "outputs": [],
   "source": [
    "##'Size'\n",
    "    #remove the 'M' at the end of the strings\n",
    "app2['Size']=app2['Size'].replace({'M$':''},regex=True).str.strip()"
   ]
  },
  {
   "cell_type": "code",
   "execution_count": 9,
   "metadata": {},
   "outputs": [],
   "source": [
    "#if there's 'K' at the end, then divide it by 1,000\n",
    "convertK=[]\n",
    "for i in app2['Size']:\n",
    "    if 'k' in i:\n",
    "        a=float(i.replace('k', '')) / 1000\n",
    "        convertK.append(a)\n",
    "    else:\n",
    "        convertK.append(i)\n",
    "app2['Size1']=convertK"
   ]
  },
  {
   "cell_type": "code",
   "execution_count": 10,
   "metadata": {},
   "outputs": [],
   "source": [
    "#bin 'Size'\n",
    "Size1=[]\n",
    "for i in app2['Size1']:\n",
    "    if i == 'Varies with device':\n",
    "        Size1.append('Varies with device')\n",
    "    else: \n",
    "        i=float(i)\n",
    "        if i<1:\n",
    "            Size1.append('<1M')\n",
    "        elif (i >=1) & (i<50):\n",
    "            Size1.append('1M+')\n",
    "        elif (i>=50) & (i<100):\n",
    "            Size1.append('50M+')\n",
    "        elif i >=100:\n",
    "            Size1.append('100M+')\n",
    "app2['AppSize']=Size1"
   ]
  },
  {
   "cell_type": "code",
   "execution_count": 11,
   "metadata": {},
   "outputs": [],
   "source": [
    "##Installs\n",
    "AppInstall=[]\n",
    "for i in app2['Installs']:\n",
    "    if (i == '0') | (i == '0+') | (i == '1+') | (i == '5+') | (i == '10+') | (i == '50+')| (i == '100+') | (i == '500+') | (i == '1,000+') | (i == '5,000+'):\n",
    "        AppInstall.append('less than 10,000')\n",
    "    elif (i == '10,000+') | (i == '50,000+')| (i == '100,000+') | (i == '500,000+'):\n",
    "        AppInstall.append('10,000+')\n",
    "    elif (i == '1,000,000+') |(i == '5,000,000+')|(i == '10,000,000+')|(i == '50,000,000+'):\n",
    "        AppInstall.append('1,000,000+')\n",
    "    elif (i == '100,000,000+') |(i == '500,000,000+')|(i == '1,000,000,000+'):\n",
    "        AppInstall.append('100,000,000+')\n",
    "AppInstall\n",
    "app2['AppInstall']=AppInstall"
   ]
  },
  {
   "cell_type": "code",
   "execution_count": 12,
   "metadata": {},
   "outputs": [
    {
     "data": {
      "text/html": [
       "<div>\n",
       "<style scoped>\n",
       "    .dataframe tbody tr th:only-of-type {\n",
       "        vertical-align: middle;\n",
       "    }\n",
       "\n",
       "    .dataframe tbody tr th {\n",
       "        vertical-align: top;\n",
       "    }\n",
       "\n",
       "    .dataframe thead th {\n",
       "        text-align: right;\n",
       "    }\n",
       "</style>\n",
       "<table border=\"1\" class=\"dataframe\">\n",
       "  <thead>\n",
       "    <tr style=\"text-align: right;\">\n",
       "      <th></th>\n",
       "      <th>Category</th>\n",
       "      <th>Size</th>\n",
       "      <th>Installs</th>\n",
       "      <th>Price</th>\n",
       "      <th>Genres</th>\n",
       "      <th>Content Rating</th>\n",
       "      <th>Size1</th>\n",
       "      <th>AppSize</th>\n",
       "      <th>AppInstall</th>\n",
       "    </tr>\n",
       "  </thead>\n",
       "  <tbody>\n",
       "    <tr>\n",
       "      <td>0</td>\n",
       "      <td>ART_AND_DESIGN</td>\n",
       "      <td>19</td>\n",
       "      <td>10,000+</td>\n",
       "      <td>0.0</td>\n",
       "      <td>Art &amp; Design</td>\n",
       "      <td>Everyone</td>\n",
       "      <td>19</td>\n",
       "      <td>1M+</td>\n",
       "      <td>10,000+</td>\n",
       "    </tr>\n",
       "    <tr>\n",
       "      <td>1</td>\n",
       "      <td>ART_AND_DESIGN</td>\n",
       "      <td>14</td>\n",
       "      <td>500,000+</td>\n",
       "      <td>0.0</td>\n",
       "      <td>Art &amp; Design;Pretend Play</td>\n",
       "      <td>Everyone</td>\n",
       "      <td>14</td>\n",
       "      <td>1M+</td>\n",
       "      <td>10,000+</td>\n",
       "    </tr>\n",
       "    <tr>\n",
       "      <td>2</td>\n",
       "      <td>ART_AND_DESIGN</td>\n",
       "      <td>8.7</td>\n",
       "      <td>5,000,000+</td>\n",
       "      <td>0.0</td>\n",
       "      <td>Art &amp; Design</td>\n",
       "      <td>Everyone</td>\n",
       "      <td>8.7</td>\n",
       "      <td>1M+</td>\n",
       "      <td>1,000,000+</td>\n",
       "    </tr>\n",
       "    <tr>\n",
       "      <td>3</td>\n",
       "      <td>ART_AND_DESIGN</td>\n",
       "      <td>25</td>\n",
       "      <td>50,000,000+</td>\n",
       "      <td>0.0</td>\n",
       "      <td>Art &amp; Design</td>\n",
       "      <td>Teen</td>\n",
       "      <td>25</td>\n",
       "      <td>1M+</td>\n",
       "      <td>1,000,000+</td>\n",
       "    </tr>\n",
       "    <tr>\n",
       "      <td>4</td>\n",
       "      <td>ART_AND_DESIGN</td>\n",
       "      <td>2.8</td>\n",
       "      <td>100,000+</td>\n",
       "      <td>0.0</td>\n",
       "      <td>Art &amp; Design;Creativity</td>\n",
       "      <td>Everyone</td>\n",
       "      <td>2.8</td>\n",
       "      <td>1M+</td>\n",
       "      <td>10,000+</td>\n",
       "    </tr>\n",
       "    <tr>\n",
       "      <td>...</td>\n",
       "      <td>...</td>\n",
       "      <td>...</td>\n",
       "      <td>...</td>\n",
       "      <td>...</td>\n",
       "      <td>...</td>\n",
       "      <td>...</td>\n",
       "      <td>...</td>\n",
       "      <td>...</td>\n",
       "      <td>...</td>\n",
       "    </tr>\n",
       "    <tr>\n",
       "      <td>10836</td>\n",
       "      <td>FAMILY</td>\n",
       "      <td>53</td>\n",
       "      <td>5,000+</td>\n",
       "      <td>0.0</td>\n",
       "      <td>Education</td>\n",
       "      <td>Everyone</td>\n",
       "      <td>53</td>\n",
       "      <td>50M+</td>\n",
       "      <td>less than 10,000</td>\n",
       "    </tr>\n",
       "    <tr>\n",
       "      <td>10837</td>\n",
       "      <td>FAMILY</td>\n",
       "      <td>3.6</td>\n",
       "      <td>100+</td>\n",
       "      <td>0.0</td>\n",
       "      <td>Education</td>\n",
       "      <td>Everyone</td>\n",
       "      <td>3.6</td>\n",
       "      <td>1M+</td>\n",
       "      <td>less than 10,000</td>\n",
       "    </tr>\n",
       "    <tr>\n",
       "      <td>10838</td>\n",
       "      <td>MEDICAL</td>\n",
       "      <td>9.5</td>\n",
       "      <td>1,000+</td>\n",
       "      <td>0.0</td>\n",
       "      <td>Medical</td>\n",
       "      <td>Everyone</td>\n",
       "      <td>9.5</td>\n",
       "      <td>1M+</td>\n",
       "      <td>less than 10,000</td>\n",
       "    </tr>\n",
       "    <tr>\n",
       "      <td>10839</td>\n",
       "      <td>BOOKS_AND_REFERENCE</td>\n",
       "      <td>Varies with device</td>\n",
       "      <td>1,000+</td>\n",
       "      <td>0.0</td>\n",
       "      <td>Books &amp; Reference</td>\n",
       "      <td>Mature 17+</td>\n",
       "      <td>Varies with device</td>\n",
       "      <td>Varies with device</td>\n",
       "      <td>less than 10,000</td>\n",
       "    </tr>\n",
       "    <tr>\n",
       "      <td>10840</td>\n",
       "      <td>LIFESTYLE</td>\n",
       "      <td>19</td>\n",
       "      <td>10,000,000+</td>\n",
       "      <td>0.0</td>\n",
       "      <td>Lifestyle</td>\n",
       "      <td>Everyone</td>\n",
       "      <td>19</td>\n",
       "      <td>1M+</td>\n",
       "      <td>1,000,000+</td>\n",
       "    </tr>\n",
       "  </tbody>\n",
       "</table>\n",
       "<p>10841 rows × 9 columns</p>\n",
       "</div>"
      ],
      "text/plain": [
       "                  Category                Size     Installs  Price  \\\n",
       "0           ART_AND_DESIGN                  19      10,000+    0.0   \n",
       "1           ART_AND_DESIGN                  14     500,000+    0.0   \n",
       "2           ART_AND_DESIGN                 8.7   5,000,000+    0.0   \n",
       "3           ART_AND_DESIGN                  25  50,000,000+    0.0   \n",
       "4           ART_AND_DESIGN                 2.8     100,000+    0.0   \n",
       "...                    ...                 ...          ...    ...   \n",
       "10836               FAMILY                  53       5,000+    0.0   \n",
       "10837               FAMILY                 3.6         100+    0.0   \n",
       "10838              MEDICAL                 9.5       1,000+    0.0   \n",
       "10839  BOOKS_AND_REFERENCE  Varies with device       1,000+    0.0   \n",
       "10840            LIFESTYLE                  19  10,000,000+    0.0   \n",
       "\n",
       "                          Genres Content Rating               Size1  \\\n",
       "0                   Art & Design       Everyone                  19   \n",
       "1      Art & Design;Pretend Play       Everyone                  14   \n",
       "2                   Art & Design       Everyone                 8.7   \n",
       "3                   Art & Design           Teen                  25   \n",
       "4        Art & Design;Creativity       Everyone                 2.8   \n",
       "...                          ...            ...                 ...   \n",
       "10836                  Education       Everyone                  53   \n",
       "10837                  Education       Everyone                 3.6   \n",
       "10838                    Medical       Everyone                 9.5   \n",
       "10839          Books & Reference     Mature 17+  Varies with device   \n",
       "10840                  Lifestyle       Everyone                  19   \n",
       "\n",
       "                  AppSize        AppInstall  \n",
       "0                     1M+           10,000+  \n",
       "1                     1M+           10,000+  \n",
       "2                     1M+        1,000,000+  \n",
       "3                     1M+        1,000,000+  \n",
       "4                     1M+           10,000+  \n",
       "...                   ...               ...  \n",
       "10836                50M+  less than 10,000  \n",
       "10837                 1M+  less than 10,000  \n",
       "10838                 1M+  less than 10,000  \n",
       "10839  Varies with device  less than 10,000  \n",
       "10840                 1M+        1,000,000+  \n",
       "\n",
       "[10841 rows x 9 columns]"
      ]
     },
     "execution_count": 12,
     "metadata": {},
     "output_type": "execute_result"
    }
   ],
   "source": [
    "app2"
   ]
  },
  {
   "cell_type": "code",
   "execution_count": 13,
   "metadata": {
    "scrolled": true
   },
   "outputs": [
    {
     "data": {
      "text/plain": [
       "Counter({'10,000+': 3241,\n",
       "         '1,000,000+': 3872,\n",
       "         'less than 10,000': 3189,\n",
       "         '100,000,000+': 539})"
      ]
     },
     "execution_count": 13,
     "metadata": {},
     "output_type": "execute_result"
    }
   ],
   "source": [
    "Counter(app2['AppInstall'])"
   ]
  },
  {
   "cell_type": "code",
   "execution_count": 14,
   "metadata": {},
   "outputs": [
    {
     "data": {
      "text/plain": [
       "Counter({'1M+': 7713,\n",
       "         'Varies with device': 1695,\n",
       "         '50M+': 1102,\n",
       "         '<1M': 315,\n",
       "         '100M+': 16})"
      ]
     },
     "execution_count": 14,
     "metadata": {},
     "output_type": "execute_result"
    }
   ],
   "source": [
    "Counter(app2['AppSize'])"
   ]
  },
  {
   "cell_type": "code",
   "execution_count": 15,
   "metadata": {},
   "outputs": [],
   "source": [
    "#select the attributes\n",
    "app3=app2[['Category','Content Rating','AppSize','Genres','Price','AppInstall']]"
   ]
  },
  {
   "cell_type": "code",
   "execution_count": 16,
   "metadata": {},
   "outputs": [],
   "source": [
    "#save it to csv file and ready to be used in WEKA\n",
    "app3.to_csv(r'/Users/hehuiyin/Desktop/BANA 273 machine learning/project/app store/app3.csv', index = False)"
   ]
  },
  {
   "cell_type": "code",
   "execution_count": null,
   "metadata": {},
   "outputs": [],
   "source": []
  }
 ],
 "metadata": {
  "kernelspec": {
   "display_name": "Python 3",
   "language": "python",
   "name": "python3"
  },
  "language_info": {
   "codemirror_mode": {
    "name": "ipython",
    "version": 3
   },
   "file_extension": ".py",
   "mimetype": "text/x-python",
   "name": "python",
   "nbconvert_exporter": "python",
   "pygments_lexer": "ipython3",
   "version": "3.7.4"
  }
 },
 "nbformat": 4,
 "nbformat_minor": 2
}
